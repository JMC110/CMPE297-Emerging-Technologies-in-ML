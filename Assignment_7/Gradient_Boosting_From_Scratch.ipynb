{
  "nbformat": 4,
  "nbformat_minor": 0,
  "metadata": {
    "kernelspec": {
      "display_name": "Python 3",
      "language": "python",
      "name": "python3"
    },
    "language_info": {
      "codemirror_mode": {
        "name": "ipython",
        "version": 3
      },
      "file_extension": ".py",
      "mimetype": "text/x-python",
      "name": "python",
      "nbconvert_exporter": "python",
      "pygments_lexer": "ipython3",
      "version": "3.8.3"
    },
    "colab": {
      "name": "Gradient_Boosting_From_Scratch.ipynb",
      "provenance": [],
      "collapsed_sections": []
    },
    "accelerator": "GPU"
  },
  "cells": [
    {
      "cell_type": "markdown",
      "metadata": {
        "id": "4lRKDOiak-Uq"
      },
      "source": [
        "Colab Link - https://colab.research.google.com/drive/1JTdGZrIzgTAARaAqvY4KTS0whfzrL5D8?usp=sharing"
      ]
    },
    {
      "cell_type": "markdown",
      "metadata": {
        "id": "rgsz9hoKi3sc"
      },
      "source": [
        "# Gradient Boosting Classification\n",
        "\n",
        "The Gradient Boosting (GB) algorithm trains a series of weak learners and each focuses on the errors the previous learners have made and tries to improve it. Together, they make a better prediction.\n",
        "\n"
      ]
    },
    {
      "cell_type": "markdown",
      "metadata": {
        "id": "jqB3JDryi3sj"
      },
      "source": [
        "# Example 1"
      ]
    },
    {
      "cell_type": "code",
      "metadata": {
        "id": "Bm7PWLqHi3sk"
      },
      "source": [
        "from sklearn.tree import DecisionTreeRegressor\n",
        "from sklearn.datasets import load_breast_cancer\n",
        "import numpy as np\n",
        "import matplotlib.pyplot as plt\n",
        "import pandas as pd\n",
        "import graphviz \n",
        "from sklearn import tree"
      ],
      "execution_count": 2,
      "outputs": []
    },
    {
      "cell_type": "code",
      "metadata": {
        "colab": {
          "base_uri": "https://localhost:8080/",
          "height": 487
        },
        "id": "HBmiCoO3i3sl",
        "outputId": "7bd2bc5e-a709-41ba-ad08-4fac3ec17bcc"
      },
      "source": [
        "df=pd.DataFrame()\n",
        "df['name']=['Jumana','Jerry','Jacky','David','Eric','John']\n",
        "df['likes_popcorn']=[1,1,0,1,0,0]\n",
        "df['age']=[10,90,30,30,30,10]\n",
        "df['favorite_color']=['Blue','Green','Blue','Red','Green','Blue']\n",
        "df['loves_troll2']=[1,1,0,0,1,1]\n",
        "print('Data:')\n",
        "display(df)\n",
        "\n",
        "X=df[['likes_popcorn','age']].copy()\n",
        "X['blue']=0\n",
        "X.loc[df['favorite_color']=='Blue','blue']=1\n",
        "X['green']=0\n",
        "X.loc[df['favorite_color']=='Green','blue']=1\n",
        "X['red']=0\n",
        "X.loc[df['favorite_color']=='Red','blue']=1\n",
        "\n",
        "y=df['loves_troll2']\n",
        "print('X:')\n",
        "display(X)\n",
        "\n",
        "n=df.shape[0]"
      ],
      "execution_count": 3,
      "outputs": [
        {
          "output_type": "stream",
          "text": [
            "Data:\n"
          ],
          "name": "stdout"
        },
        {
          "output_type": "display_data",
          "data": {
            "text/html": [
              "<div>\n",
              "<style scoped>\n",
              "    .dataframe tbody tr th:only-of-type {\n",
              "        vertical-align: middle;\n",
              "    }\n",
              "\n",
              "    .dataframe tbody tr th {\n",
              "        vertical-align: top;\n",
              "    }\n",
              "\n",
              "    .dataframe thead th {\n",
              "        text-align: right;\n",
              "    }\n",
              "</style>\n",
              "<table border=\"1\" class=\"dataframe\">\n",
              "  <thead>\n",
              "    <tr style=\"text-align: right;\">\n",
              "      <th></th>\n",
              "      <th>name</th>\n",
              "      <th>likes_popcorn</th>\n",
              "      <th>age</th>\n",
              "      <th>favorite_color</th>\n",
              "      <th>loves_troll2</th>\n",
              "    </tr>\n",
              "  </thead>\n",
              "  <tbody>\n",
              "    <tr>\n",
              "      <th>0</th>\n",
              "      <td>Jumana</td>\n",
              "      <td>1</td>\n",
              "      <td>10</td>\n",
              "      <td>Blue</td>\n",
              "      <td>1</td>\n",
              "    </tr>\n",
              "    <tr>\n",
              "      <th>1</th>\n",
              "      <td>Jerry</td>\n",
              "      <td>1</td>\n",
              "      <td>90</td>\n",
              "      <td>Green</td>\n",
              "      <td>1</td>\n",
              "    </tr>\n",
              "    <tr>\n",
              "      <th>2</th>\n",
              "      <td>Jacky</td>\n",
              "      <td>0</td>\n",
              "      <td>30</td>\n",
              "      <td>Blue</td>\n",
              "      <td>0</td>\n",
              "    </tr>\n",
              "    <tr>\n",
              "      <th>3</th>\n",
              "      <td>David</td>\n",
              "      <td>1</td>\n",
              "      <td>30</td>\n",
              "      <td>Red</td>\n",
              "      <td>0</td>\n",
              "    </tr>\n",
              "    <tr>\n",
              "      <th>4</th>\n",
              "      <td>Eric</td>\n",
              "      <td>0</td>\n",
              "      <td>30</td>\n",
              "      <td>Green</td>\n",
              "      <td>1</td>\n",
              "    </tr>\n",
              "    <tr>\n",
              "      <th>5</th>\n",
              "      <td>John</td>\n",
              "      <td>0</td>\n",
              "      <td>10</td>\n",
              "      <td>Blue</td>\n",
              "      <td>1</td>\n",
              "    </tr>\n",
              "  </tbody>\n",
              "</table>\n",
              "</div>"
            ],
            "text/plain": [
              "     name  likes_popcorn  age favorite_color  loves_troll2\n",
              "0  Jumana              1   10           Blue             1\n",
              "1   Jerry              1   90          Green             1\n",
              "2   Jacky              0   30           Blue             0\n",
              "3   David              1   30            Red             0\n",
              "4    Eric              0   30          Green             1\n",
              "5    John              0   10           Blue             1"
            ]
          },
          "metadata": {
            "tags": []
          }
        },
        {
          "output_type": "stream",
          "text": [
            "X:\n"
          ],
          "name": "stdout"
        },
        {
          "output_type": "display_data",
          "data": {
            "text/html": [
              "<div>\n",
              "<style scoped>\n",
              "    .dataframe tbody tr th:only-of-type {\n",
              "        vertical-align: middle;\n",
              "    }\n",
              "\n",
              "    .dataframe tbody tr th {\n",
              "        vertical-align: top;\n",
              "    }\n",
              "\n",
              "    .dataframe thead th {\n",
              "        text-align: right;\n",
              "    }\n",
              "</style>\n",
              "<table border=\"1\" class=\"dataframe\">\n",
              "  <thead>\n",
              "    <tr style=\"text-align: right;\">\n",
              "      <th></th>\n",
              "      <th>likes_popcorn</th>\n",
              "      <th>age</th>\n",
              "      <th>blue</th>\n",
              "      <th>green</th>\n",
              "      <th>red</th>\n",
              "    </tr>\n",
              "  </thead>\n",
              "  <tbody>\n",
              "    <tr>\n",
              "      <th>0</th>\n",
              "      <td>1</td>\n",
              "      <td>10</td>\n",
              "      <td>1</td>\n",
              "      <td>0</td>\n",
              "      <td>0</td>\n",
              "    </tr>\n",
              "    <tr>\n",
              "      <th>1</th>\n",
              "      <td>1</td>\n",
              "      <td>90</td>\n",
              "      <td>1</td>\n",
              "      <td>0</td>\n",
              "      <td>0</td>\n",
              "    </tr>\n",
              "    <tr>\n",
              "      <th>2</th>\n",
              "      <td>0</td>\n",
              "      <td>30</td>\n",
              "      <td>1</td>\n",
              "      <td>0</td>\n",
              "      <td>0</td>\n",
              "    </tr>\n",
              "    <tr>\n",
              "      <th>3</th>\n",
              "      <td>1</td>\n",
              "      <td>30</td>\n",
              "      <td>1</td>\n",
              "      <td>0</td>\n",
              "      <td>0</td>\n",
              "    </tr>\n",
              "    <tr>\n",
              "      <th>4</th>\n",
              "      <td>0</td>\n",
              "      <td>30</td>\n",
              "      <td>1</td>\n",
              "      <td>0</td>\n",
              "      <td>0</td>\n",
              "    </tr>\n",
              "    <tr>\n",
              "      <th>5</th>\n",
              "      <td>0</td>\n",
              "      <td>10</td>\n",
              "      <td>1</td>\n",
              "      <td>0</td>\n",
              "      <td>0</td>\n",
              "    </tr>\n",
              "  </tbody>\n",
              "</table>\n",
              "</div>"
            ],
            "text/plain": [
              "   likes_popcorn  age  blue  green  red\n",
              "0              1   10     1      0    0\n",
              "1              1   90     1      0    0\n",
              "2              0   30     1      0    0\n",
              "3              1   30     1      0    0\n",
              "4              0   30     1      0    0\n",
              "5              0   10     1      0    0"
            ]
          },
          "metadata": {
            "tags": []
          }
        }
      ]
    },
    {
      "cell_type": "markdown",
      "metadata": {
        "id": "_XVM9SJxi3sm"
      },
      "source": [
        "## Step 1 Log of Odds, Probabilities and Predictions"
      ]
    },
    {
      "cell_type": "code",
      "metadata": {
        "colab": {
          "base_uri": "https://localhost:8080/"
        },
        "id": "KUr5UqUsi3sm",
        "outputId": "00fa7ac6-2356-44c7-c962-82639f55f45e"
      },
      "source": [
        "log_of_odds0=np.log(4 / 2)\n",
        "probability0=np.exp(log_of_odds0)/(np.exp(log_of_odds0)+1)\n",
        "print(f'the log_of_odds is : {log_of_odds0}')\n",
        "print(f'the probability is : {probability0}')\n",
        "predict0=1\n",
        "print(f'the prediction is : 1')\n",
        "n_samples=6\n",
        "\n",
        "loss0=-(y*np.log(probability0)+(1-y)*np.log(1-probability0))"
      ],
      "execution_count": 4,
      "outputs": [
        {
          "output_type": "stream",
          "text": [
            "the log_of_odds is : 0.6931471805599453\n",
            "the probability is : 0.6666666666666666\n",
            "the prediction is : 1\n"
          ],
          "name": "stdout"
        }
      ]
    },
    {
      "cell_type": "code",
      "metadata": {
        "id": "OlWYSDrgi3sm"
      },
      "source": [
        "n_times = 5\n",
        "learning_rate=0.8\n",
        "log_of_odds=np.zeros([n_times+1,n_samples])\n",
        "\n",
        "residuals = np.zeros([n_times+1,n_samples])\n",
        "loss = [0] * (n_times+1)\n",
        "probabilities = np.zeros([n_times+1,n_samples])\n",
        "predictions = np.zeros([n_times+1,n_samples])\n",
        "score = np.zeros([n_times+1])\n",
        "#calculation\n",
        "log_of_odds[0] = [log_of_odds0] * n_samples\n",
        "probabilities[0] = [probability0] * n_samples\n",
        "predictions[0] = (probabilities[0]>0.5)*1.0\n",
        "score[0]=np.sum(predictions[0]==y) / n_samples\n",
        "residuals[0] = y - probabilities[0]\n",
        "loss[0] = loss0.sum()\n",
        "trees = []\n",
        "gamma_value = np.zeros([n_times+1,8])\n",
        "gamma = np.zeros([n_times+1,n_samples])"
      ],
      "execution_count": 5,
      "outputs": []
    },
    {
      "cell_type": "code",
      "metadata": {
        "colab": {
          "base_uri": "https://localhost:8080/"
        },
        "id": "18eIgZK_i3sn",
        "outputId": "b6264333-a585-4c27-8648-848d1367e474"
      },
      "source": [
        "residuals.shape"
      ],
      "execution_count": 6,
      "outputs": [
        {
          "output_type": "execute_result",
          "data": {
            "text/plain": [
              "(6, 6)"
            ]
          },
          "metadata": {
            "tags": []
          },
          "execution_count": 6
        }
      ]
    },
    {
      "cell_type": "code",
      "metadata": {
        "colab": {
          "base_uri": "https://localhost:8080/"
        },
        "id": "MfgmI2LFi3sn",
        "outputId": "3c7cfcdc-54af-4a5e-ecc7-28688a807c2d"
      },
      "source": [
        "probabilities.shape"
      ],
      "execution_count": 7,
      "outputs": [
        {
          "output_type": "execute_result",
          "data": {
            "text/plain": [
              "(6, 6)"
            ]
          },
          "metadata": {
            "tags": []
          },
          "execution_count": 7
        }
      ]
    },
    {
      "cell_type": "code",
      "metadata": {
        "id": "GpG4Zn0Zi3sn"
      },
      "source": [
        "def iteration(i):\n",
        "    #Calculate the residuals\n",
        "    residuals[i] = y - probabilities[i]\n",
        "    #Fit a regression tree\n",
        "    dt = DecisionTreeRegressor(max_depth=1, max_leaf_nodes=3)\n",
        "    dt=dt.fit(X, residuals[i])\n",
        "    \n",
        "    trees.append(dt.tree_)\n",
        "    \n",
        "    #Calculate gamma\n",
        "    leaf_indeces=dt.apply(X)\n",
        "    print(leaf_indeces)\n",
        "    unique_leaves=np.unique(leaf_indeces)\n",
        "    n_leaf=len(unique_leaves)\n",
        "    #for leaf 1\n",
        "    for ileaf in range(n_leaf):\n",
        "        \n",
        "        leaf_index=unique_leaves[ileaf]\n",
        "        n_leaf=len(leaf_indeces[leaf_indeces==leaf_index])\n",
        "        previous_probability = probabilities[i][leaf_indeces==leaf_index]\n",
        "        denominator = np.sum(previous_probability * (1-previous_probability))\n",
        "        igamma = dt.tree_.value[ileaf+1][0][0] * n_leaf / denominator\n",
        "        gamma_value[i][ileaf]=igamma\n",
        "        print(f'for leaf {leaf_index}, we have {n_leaf} related samples. and gamma is {igamma}')\n",
        "\n",
        "    gamma[i] = [gamma_value[i][np.where(unique_leaves==index)] for index in leaf_indeces]\n",
        "    #Update F(x) \n",
        "    log_of_odds[i+1] = log_of_odds[i] + learning_rate * gamma[i]\n",
        "\n",
        "    probabilities[i+1] = np.array([np.exp(odds)/(np.exp(odds)+1) for odds in log_of_odds[i+1]])\n",
        "    predictions[i+1] = (probabilities[i+1]>0.5)*1.0\n",
        "    score[i+1]=np.sum(predictions[i+1]==y) / n_samples\n",
        "    #residuals[i+1] = y - probabilities[i+1]\n",
        "    loss[i+1]=np.sum(-y * log_of_odds[i+1] + np.log(1+np.exp(log_of_odds[i+1])))\n",
        "    \n",
        "    new_df=df.copy()\n",
        "    new_df.columns=['name', 'popcorn','age','color','y']\n",
        "    new_df[f'$p_{i}$']=probabilities[i]\n",
        "    new_df[f'$l_{i}$']=log_of_odds[i]\n",
        "    new_df[f'$r_{i}$']=residuals[i]\n",
        "    new_df[f'$\\gamma_{i}$']=gamma[i]\n",
        "    new_df[f'$l_{i+1}$']=log_of_odds[i+1]\n",
        "    new_df[f'$p_{i+1}$']=probabilities[i+1]\n",
        "    display(new_df)\n",
        "    \n",
        "    dot_data = tree.export_graphviz(dt, out_file=None, filled=True, rounded=True,feature_names=X.columns) \n",
        "    graph = graphviz.Source(dot_data) \n",
        "    display(graph)"
      ],
      "execution_count": 8,
      "outputs": []
    },
    {
      "cell_type": "code",
      "metadata": {
        "colab": {
          "base_uri": "https://localhost:8080/",
          "height": 510
        },
        "id": "o4d9Ih7bi3sn",
        "outputId": "02b7a58c-0c4a-4f41-f982-341669e22281"
      },
      "source": [
        "iteration(0)"
      ],
      "execution_count": 9,
      "outputs": [
        {
          "output_type": "stream",
          "text": [
            "[1 2 2 2 2 1]\n",
            "for leaf 1, we have 2 related samples. and gamma is 1.5\n",
            "for leaf 2, we have 4 related samples. and gamma is -0.7499999999999998\n"
          ],
          "name": "stdout"
        },
        {
          "output_type": "display_data",
          "data": {
            "text/html": [
              "<div>\n",
              "<style scoped>\n",
              "    .dataframe tbody tr th:only-of-type {\n",
              "        vertical-align: middle;\n",
              "    }\n",
              "\n",
              "    .dataframe tbody tr th {\n",
              "        vertical-align: top;\n",
              "    }\n",
              "\n",
              "    .dataframe thead th {\n",
              "        text-align: right;\n",
              "    }\n",
              "</style>\n",
              "<table border=\"1\" class=\"dataframe\">\n",
              "  <thead>\n",
              "    <tr style=\"text-align: right;\">\n",
              "      <th></th>\n",
              "      <th>name</th>\n",
              "      <th>popcorn</th>\n",
              "      <th>age</th>\n",
              "      <th>color</th>\n",
              "      <th>y</th>\n",
              "      <th>$p_0$</th>\n",
              "      <th>$l_0$</th>\n",
              "      <th>$r_0$</th>\n",
              "      <th>$\\gamma_0$</th>\n",
              "      <th>$l_1$</th>\n",
              "      <th>$p_1$</th>\n",
              "    </tr>\n",
              "  </thead>\n",
              "  <tbody>\n",
              "    <tr>\n",
              "      <th>0</th>\n",
              "      <td>Jumana</td>\n",
              "      <td>1</td>\n",
              "      <td>10</td>\n",
              "      <td>Blue</td>\n",
              "      <td>1</td>\n",
              "      <td>0.666667</td>\n",
              "      <td>0.693147</td>\n",
              "      <td>0.333333</td>\n",
              "      <td>1.50</td>\n",
              "      <td>1.893147</td>\n",
              "      <td>0.869114</td>\n",
              "    </tr>\n",
              "    <tr>\n",
              "      <th>1</th>\n",
              "      <td>Jerry</td>\n",
              "      <td>1</td>\n",
              "      <td>90</td>\n",
              "      <td>Green</td>\n",
              "      <td>1</td>\n",
              "      <td>0.666667</td>\n",
              "      <td>0.693147</td>\n",
              "      <td>0.333333</td>\n",
              "      <td>-0.75</td>\n",
              "      <td>0.093147</td>\n",
              "      <td>0.523270</td>\n",
              "    </tr>\n",
              "    <tr>\n",
              "      <th>2</th>\n",
              "      <td>Jacky</td>\n",
              "      <td>0</td>\n",
              "      <td>30</td>\n",
              "      <td>Blue</td>\n",
              "      <td>0</td>\n",
              "      <td>0.666667</td>\n",
              "      <td>0.693147</td>\n",
              "      <td>-0.666667</td>\n",
              "      <td>-0.75</td>\n",
              "      <td>0.093147</td>\n",
              "      <td>0.523270</td>\n",
              "    </tr>\n",
              "    <tr>\n",
              "      <th>3</th>\n",
              "      <td>David</td>\n",
              "      <td>1</td>\n",
              "      <td>30</td>\n",
              "      <td>Red</td>\n",
              "      <td>0</td>\n",
              "      <td>0.666667</td>\n",
              "      <td>0.693147</td>\n",
              "      <td>-0.666667</td>\n",
              "      <td>-0.75</td>\n",
              "      <td>0.093147</td>\n",
              "      <td>0.523270</td>\n",
              "    </tr>\n",
              "    <tr>\n",
              "      <th>4</th>\n",
              "      <td>Eric</td>\n",
              "      <td>0</td>\n",
              "      <td>30</td>\n",
              "      <td>Green</td>\n",
              "      <td>1</td>\n",
              "      <td>0.666667</td>\n",
              "      <td>0.693147</td>\n",
              "      <td>0.333333</td>\n",
              "      <td>-0.75</td>\n",
              "      <td>0.093147</td>\n",
              "      <td>0.523270</td>\n",
              "    </tr>\n",
              "    <tr>\n",
              "      <th>5</th>\n",
              "      <td>John</td>\n",
              "      <td>0</td>\n",
              "      <td>10</td>\n",
              "      <td>Blue</td>\n",
              "      <td>1</td>\n",
              "      <td>0.666667</td>\n",
              "      <td>0.693147</td>\n",
              "      <td>0.333333</td>\n",
              "      <td>1.50</td>\n",
              "      <td>1.893147</td>\n",
              "      <td>0.869114</td>\n",
              "    </tr>\n",
              "  </tbody>\n",
              "</table>\n",
              "</div>"
            ],
            "text/plain": [
              "     name  popcorn  age  color  ...     $r_0$  $\\gamma_0$     $l_1$     $p_1$\n",
              "0  Jumana        1   10   Blue  ...  0.333333        1.50  1.893147  0.869114\n",
              "1   Jerry        1   90  Green  ...  0.333333       -0.75  0.093147  0.523270\n",
              "2   Jacky        0   30   Blue  ... -0.666667       -0.75  0.093147  0.523270\n",
              "3   David        1   30    Red  ... -0.666667       -0.75  0.093147  0.523270\n",
              "4    Eric        0   30  Green  ...  0.333333       -0.75  0.093147  0.523270\n",
              "5    John        0   10   Blue  ...  0.333333        1.50  1.893147  0.869114\n",
              "\n",
              "[6 rows x 11 columns]"
            ]
          },
          "metadata": {
            "tags": []
          }
        },
        {
          "output_type": "display_data",
          "data": {
            "text/plain": [
              "<graphviz.files.Source at 0x7f6656e66d30>"
            ],
            "image/svg+xml": "<?xml version=\"1.0\" encoding=\"UTF-8\" standalone=\"no\"?>\n<!DOCTYPE svg PUBLIC \"-//W3C//DTD SVG 1.1//EN\"\n \"http://www.w3.org/Graphics/SVG/1.1/DTD/svg11.dtd\">\n<!-- Generated by graphviz version 2.40.1 (20161225.0304)\n -->\n<!-- Title: Tree Pages: 1 -->\n<svg width=\"240pt\" height=\"165pt\"\n viewBox=\"0.00 0.00 239.50 165.00\" xmlns=\"http://www.w3.org/2000/svg\" xmlns:xlink=\"http://www.w3.org/1999/xlink\">\n<g id=\"graph0\" class=\"graph\" transform=\"scale(1 1) rotate(0) translate(4 161)\">\n<title>Tree</title>\n<polygon fill=\"#ffffff\" stroke=\"transparent\" points=\"-4,4 -4,-161 235.5,-161 235.5,4 -4,4\"/>\n<!-- 0 -->\n<g id=\"node1\" class=\"node\">\n<title>0</title>\n<path fill=\"#f6d5bd\" stroke=\"#000000\" d=\"M150.5,-157C150.5,-157 77.5,-157 77.5,-157 71.5,-157 65.5,-151 65.5,-145 65.5,-145 65.5,-101 65.5,-101 65.5,-95 71.5,-89 77.5,-89 77.5,-89 150.5,-89 150.5,-89 156.5,-89 162.5,-95 162.5,-101 162.5,-101 162.5,-145 162.5,-145 162.5,-151 156.5,-157 150.5,-157\"/>\n<text text-anchor=\"middle\" x=\"114\" y=\"-141.8\" font-family=\"Helvetica,sans-Serif\" font-size=\"14.00\" fill=\"#000000\">age &lt;= 20.0</text>\n<text text-anchor=\"middle\" x=\"114\" y=\"-126.8\" font-family=\"Helvetica,sans-Serif\" font-size=\"14.00\" fill=\"#000000\">mse = 0.222</text>\n<text text-anchor=\"middle\" x=\"114\" y=\"-111.8\" font-family=\"Helvetica,sans-Serif\" font-size=\"14.00\" fill=\"#000000\">samples = 6</text>\n<text text-anchor=\"middle\" x=\"114\" y=\"-96.8\" font-family=\"Helvetica,sans-Serif\" font-size=\"14.00\" fill=\"#000000\">value = 0.0</text>\n</g>\n<!-- 1 -->\n<g id=\"node2\" class=\"node\">\n<title>1</title>\n<path fill=\"#e58139\" stroke=\"#000000\" d=\"M92,-53C92,-53 12,-53 12,-53 6,-53 0,-47 0,-41 0,-41 0,-12 0,-12 0,-6 6,0 12,0 12,0 92,0 92,0 98,0 104,-6 104,-12 104,-12 104,-41 104,-41 104,-47 98,-53 92,-53\"/>\n<text text-anchor=\"middle\" x=\"52\" y=\"-37.8\" font-family=\"Helvetica,sans-Serif\" font-size=\"14.00\" fill=\"#000000\">mse = 0.0</text>\n<text text-anchor=\"middle\" x=\"52\" y=\"-22.8\" font-family=\"Helvetica,sans-Serif\" font-size=\"14.00\" fill=\"#000000\">samples = 2</text>\n<text text-anchor=\"middle\" x=\"52\" y=\"-7.8\" font-family=\"Helvetica,sans-Serif\" font-size=\"14.00\" fill=\"#000000\">value = 0.333</text>\n</g>\n<!-- 0&#45;&gt;1 -->\n<g id=\"edge1\" class=\"edge\">\n<title>0&#45;&gt;1</title>\n<path fill=\"none\" stroke=\"#000000\" d=\"M92.1411,-88.9777C86.4932,-80.187 80.4007,-70.7044 74.7104,-61.8477\"/>\n<polygon fill=\"#000000\" stroke=\"#000000\" points=\"77.5356,-59.7698 69.1856,-53.2485 71.6463,-63.5536 77.5356,-59.7698\"/>\n<text text-anchor=\"middle\" x=\"63.8684\" y=\"-73.9765\" font-family=\"Helvetica,sans-Serif\" font-size=\"14.00\" fill=\"#000000\">True</text>\n</g>\n<!-- 2 -->\n<g id=\"node3\" class=\"node\">\n<title>2</title>\n<path fill=\"#ffffff\" stroke=\"#000000\" d=\"M219.5,-53C219.5,-53 134.5,-53 134.5,-53 128.5,-53 122.5,-47 122.5,-41 122.5,-41 122.5,-12 122.5,-12 122.5,-6 128.5,0 134.5,0 134.5,0 219.5,0 219.5,0 225.5,0 231.5,-6 231.5,-12 231.5,-12 231.5,-41 231.5,-41 231.5,-47 225.5,-53 219.5,-53\"/>\n<text text-anchor=\"middle\" x=\"177\" y=\"-37.8\" font-family=\"Helvetica,sans-Serif\" font-size=\"14.00\" fill=\"#000000\">mse = 0.25</text>\n<text text-anchor=\"middle\" x=\"177\" y=\"-22.8\" font-family=\"Helvetica,sans-Serif\" font-size=\"14.00\" fill=\"#000000\">samples = 4</text>\n<text text-anchor=\"middle\" x=\"177\" y=\"-7.8\" font-family=\"Helvetica,sans-Serif\" font-size=\"14.00\" fill=\"#000000\">value = &#45;0.167</text>\n</g>\n<!-- 0&#45;&gt;2 -->\n<g id=\"edge2\" class=\"edge\">\n<title>0&#45;&gt;2</title>\n<path fill=\"none\" stroke=\"#000000\" d=\"M136.2114,-88.9777C141.9504,-80.187 148.1412,-70.7044 153.9233,-61.8477\"/>\n<polygon fill=\"#000000\" stroke=\"#000000\" points=\"157.0013,-63.5354 159.5373,-53.2485 151.1398,-59.7087 157.0013,-63.5354\"/>\n<text text-anchor=\"middle\" x=\"164.6759\" y=\"-74.0147\" font-family=\"Helvetica,sans-Serif\" font-size=\"14.00\" fill=\"#000000\">False</text>\n</g>\n</g>\n</svg>\n"
          },
          "metadata": {
            "tags": []
          }
        }
      ]
    },
    {
      "cell_type": "code",
      "metadata": {
        "colab": {
          "base_uri": "https://localhost:8080/"
        },
        "id": "qEDyWhwIi3so",
        "outputId": "4d9f4ec7-eafd-412f-fc71-6460c3e1aee3"
      },
      "source": [
        "(1/3+1/3)/((1-2/3)*2/3+(1-2/3)*2/3)"
      ],
      "execution_count": 10,
      "outputs": [
        {
          "output_type": "execute_result",
          "data": {
            "text/plain": [
              "1.4999999999999998"
            ]
          },
          "metadata": {
            "tags": []
          },
          "execution_count": 10
        }
      ]
    },
    {
      "cell_type": "markdown",
      "metadata": {
        "id": "PP9InjSAi3so"
      },
      "source": [
        "  * For the second leaf, we have four samples. $\\gamma$ is:"
      ]
    },
    {
      "cell_type": "code",
      "metadata": {
        "colab": {
          "base_uri": "https://localhost:8080/"
        },
        "id": "ixzajZK4i3so",
        "outputId": "f5e55802-463a-45ab-d0b2-a45534a37a30"
      },
      "source": [
        "(1/3-2/3-2/3+1/3)/(4*(1-2/3)*2/3)"
      ],
      "execution_count": 11,
      "outputs": [
        {
          "output_type": "execute_result",
          "data": {
            "text/plain": [
              "-0.75"
            ]
          },
          "metadata": {
            "tags": []
          },
          "execution_count": 11
        }
      ]
    },
    {
      "cell_type": "code",
      "metadata": {
        "colab": {
          "base_uri": "https://localhost:8080/",
          "height": 510
        },
        "id": "xAU5DBg-i3so",
        "outputId": "0bc9e45e-e5fd-41fe-99bd-c3381caf14a7"
      },
      "source": [
        "iteration(1)\n",
        "    "
      ],
      "execution_count": 12,
      "outputs": [
        {
          "output_type": "stream",
          "text": [
            "[1 2 1 1 1 1]\n",
            "for leaf 1, we have 5 related samples. and gamma is -0.31564962030401844\n",
            "for leaf 2, we have 1 related samples. and gamma is 1.9110594001952543\n"
          ],
          "name": "stdout"
        },
        {
          "output_type": "display_data",
          "data": {
            "text/html": [
              "<div>\n",
              "<style scoped>\n",
              "    .dataframe tbody tr th:only-of-type {\n",
              "        vertical-align: middle;\n",
              "    }\n",
              "\n",
              "    .dataframe tbody tr th {\n",
              "        vertical-align: top;\n",
              "    }\n",
              "\n",
              "    .dataframe thead th {\n",
              "        text-align: right;\n",
              "    }\n",
              "</style>\n",
              "<table border=\"1\" class=\"dataframe\">\n",
              "  <thead>\n",
              "    <tr style=\"text-align: right;\">\n",
              "      <th></th>\n",
              "      <th>name</th>\n",
              "      <th>popcorn</th>\n",
              "      <th>age</th>\n",
              "      <th>color</th>\n",
              "      <th>y</th>\n",
              "      <th>$p_1$</th>\n",
              "      <th>$l_1$</th>\n",
              "      <th>$r_1$</th>\n",
              "      <th>$\\gamma_1$</th>\n",
              "      <th>$l_2$</th>\n",
              "      <th>$p_2$</th>\n",
              "    </tr>\n",
              "  </thead>\n",
              "  <tbody>\n",
              "    <tr>\n",
              "      <th>0</th>\n",
              "      <td>Jumana</td>\n",
              "      <td>1</td>\n",
              "      <td>10</td>\n",
              "      <td>Blue</td>\n",
              "      <td>1</td>\n",
              "      <td>0.869114</td>\n",
              "      <td>1.893147</td>\n",
              "      <td>0.130886</td>\n",
              "      <td>-0.315650</td>\n",
              "      <td>1.640627</td>\n",
              "      <td>0.837620</td>\n",
              "    </tr>\n",
              "    <tr>\n",
              "      <th>1</th>\n",
              "      <td>Jerry</td>\n",
              "      <td>1</td>\n",
              "      <td>90</td>\n",
              "      <td>Green</td>\n",
              "      <td>1</td>\n",
              "      <td>0.523270</td>\n",
              "      <td>0.093147</td>\n",
              "      <td>0.476730</td>\n",
              "      <td>1.911059</td>\n",
              "      <td>1.621995</td>\n",
              "      <td>0.835070</td>\n",
              "    </tr>\n",
              "    <tr>\n",
              "      <th>2</th>\n",
              "      <td>Jacky</td>\n",
              "      <td>0</td>\n",
              "      <td>30</td>\n",
              "      <td>Blue</td>\n",
              "      <td>0</td>\n",
              "      <td>0.523270</td>\n",
              "      <td>0.093147</td>\n",
              "      <td>-0.523270</td>\n",
              "      <td>-0.315650</td>\n",
              "      <td>-0.159373</td>\n",
              "      <td>0.460241</td>\n",
              "    </tr>\n",
              "    <tr>\n",
              "      <th>3</th>\n",
              "      <td>David</td>\n",
              "      <td>1</td>\n",
              "      <td>30</td>\n",
              "      <td>Red</td>\n",
              "      <td>0</td>\n",
              "      <td>0.523270</td>\n",
              "      <td>0.093147</td>\n",
              "      <td>-0.523270</td>\n",
              "      <td>-0.315650</td>\n",
              "      <td>-0.159373</td>\n",
              "      <td>0.460241</td>\n",
              "    </tr>\n",
              "    <tr>\n",
              "      <th>4</th>\n",
              "      <td>Eric</td>\n",
              "      <td>0</td>\n",
              "      <td>30</td>\n",
              "      <td>Green</td>\n",
              "      <td>1</td>\n",
              "      <td>0.523270</td>\n",
              "      <td>0.093147</td>\n",
              "      <td>0.476730</td>\n",
              "      <td>-0.315650</td>\n",
              "      <td>-0.159373</td>\n",
              "      <td>0.460241</td>\n",
              "    </tr>\n",
              "    <tr>\n",
              "      <th>5</th>\n",
              "      <td>John</td>\n",
              "      <td>0</td>\n",
              "      <td>10</td>\n",
              "      <td>Blue</td>\n",
              "      <td>1</td>\n",
              "      <td>0.869114</td>\n",
              "      <td>1.893147</td>\n",
              "      <td>0.130886</td>\n",
              "      <td>-0.315650</td>\n",
              "      <td>1.640627</td>\n",
              "      <td>0.837620</td>\n",
              "    </tr>\n",
              "  </tbody>\n",
              "</table>\n",
              "</div>"
            ],
            "text/plain": [
              "     name  popcorn  age  color  ...     $r_1$  $\\gamma_1$     $l_2$     $p_2$\n",
              "0  Jumana        1   10   Blue  ...  0.130886   -0.315650  1.640627  0.837620\n",
              "1   Jerry        1   90  Green  ...  0.476730    1.911059  1.621995  0.835070\n",
              "2   Jacky        0   30   Blue  ... -0.523270   -0.315650 -0.159373  0.460241\n",
              "3   David        1   30    Red  ... -0.523270   -0.315650 -0.159373  0.460241\n",
              "4    Eric        0   30  Green  ...  0.476730   -0.315650 -0.159373  0.460241\n",
              "5    John        0   10   Blue  ...  0.130886   -0.315650  1.640627  0.837620\n",
              "\n",
              "[6 rows x 11 columns]"
            ]
          },
          "metadata": {
            "tags": []
          }
        },
        {
          "output_type": "display_data",
          "data": {
            "text/plain": [
              "<graphviz.files.Source at 0x7f6656e93208>"
            ],
            "image/svg+xml": "<?xml version=\"1.0\" encoding=\"UTF-8\" standalone=\"no\"?>\n<!DOCTYPE svg PUBLIC \"-//W3C//DTD SVG 1.1//EN\"\n \"http://www.w3.org/Graphics/SVG/1.1/DTD/svg11.dtd\">\n<!-- Generated by graphviz version 2.40.1 (20161225.0304)\n -->\n<!-- Title: Tree Pages: 1 -->\n<svg width=\"240pt\" height=\"165pt\"\n viewBox=\"0.00 0.00 239.50 165.00\" xmlns=\"http://www.w3.org/2000/svg\" xmlns:xlink=\"http://www.w3.org/1999/xlink\">\n<g id=\"graph0\" class=\"graph\" transform=\"scale(1 1) rotate(0) translate(4 161)\">\n<title>Tree</title>\n<polygon fill=\"#ffffff\" stroke=\"transparent\" points=\"-4,4 -4,-161 235.5,-161 235.5,4 -4,4\"/>\n<!-- 0 -->\n<g id=\"node1\" class=\"node\">\n<title>0</title>\n<path fill=\"#fbeade\" stroke=\"#000000\" d=\"M156.5,-157C156.5,-157 76.5,-157 76.5,-157 70.5,-157 64.5,-151 64.5,-145 64.5,-145 64.5,-101 64.5,-101 64.5,-95 70.5,-89 76.5,-89 76.5,-89 156.5,-89 156.5,-89 162.5,-89 168.5,-95 168.5,-101 168.5,-101 168.5,-145 168.5,-145 168.5,-151 162.5,-157 156.5,-157\"/>\n<text text-anchor=\"middle\" x=\"116.5\" y=\"-141.8\" font-family=\"Helvetica,sans-Serif\" font-size=\"14.00\" fill=\"#000000\">age &lt;= 60.0</text>\n<text text-anchor=\"middle\" x=\"116.5\" y=\"-126.8\" font-family=\"Helvetica,sans-Serif\" font-size=\"14.00\" fill=\"#000000\">mse = 0.172</text>\n<text text-anchor=\"middle\" x=\"116.5\" y=\"-111.8\" font-family=\"Helvetica,sans-Serif\" font-size=\"14.00\" fill=\"#000000\">samples = 6</text>\n<text text-anchor=\"middle\" x=\"116.5\" y=\"-96.8\" font-family=\"Helvetica,sans-Serif\" font-size=\"14.00\" fill=\"#000000\">value = 0.028</text>\n</g>\n<!-- 1 -->\n<g id=\"node2\" class=\"node\">\n<title>1</title>\n<path fill=\"#ffffff\" stroke=\"#000000\" d=\"M97,-53C97,-53 12,-53 12,-53 6,-53 0,-47 0,-41 0,-41 0,-12 0,-12 0,-6 6,0 12,0 12,0 97,0 97,0 103,0 109,-6 109,-12 109,-12 109,-41 109,-41 109,-47 103,-53 97,-53\"/>\n<text text-anchor=\"middle\" x=\"54.5\" y=\"-37.8\" font-family=\"Helvetica,sans-Serif\" font-size=\"14.00\" fill=\"#000000\">mse = 0.158</text>\n<text text-anchor=\"middle\" x=\"54.5\" y=\"-22.8\" font-family=\"Helvetica,sans-Serif\" font-size=\"14.00\" fill=\"#000000\">samples = 5</text>\n<text text-anchor=\"middle\" x=\"54.5\" y=\"-7.8\" font-family=\"Helvetica,sans-Serif\" font-size=\"14.00\" fill=\"#000000\">value = &#45;0.062</text>\n</g>\n<!-- 0&#45;&gt;1 -->\n<g id=\"edge1\" class=\"edge\">\n<title>0&#45;&gt;1</title>\n<path fill=\"none\" stroke=\"#000000\" d=\"M94.6411,-88.9777C88.9932,-80.187 82.9007,-70.7044 77.2104,-61.8477\"/>\n<polygon fill=\"#000000\" stroke=\"#000000\" points=\"80.0356,-59.7698 71.6856,-53.2485 74.1463,-63.5536 80.0356,-59.7698\"/>\n<text text-anchor=\"middle\" x=\"66.3684\" y=\"-73.9765\" font-family=\"Helvetica,sans-Serif\" font-size=\"14.00\" fill=\"#000000\">True</text>\n</g>\n<!-- 2 -->\n<g id=\"node3\" class=\"node\">\n<title>2</title>\n<path fill=\"#e58139\" stroke=\"#000000\" d=\"M219.5,-53C219.5,-53 139.5,-53 139.5,-53 133.5,-53 127.5,-47 127.5,-41 127.5,-41 127.5,-12 127.5,-12 127.5,-6 133.5,0 139.5,0 139.5,0 219.5,0 219.5,0 225.5,0 231.5,-6 231.5,-12 231.5,-12 231.5,-41 231.5,-41 231.5,-47 225.5,-53 219.5,-53\"/>\n<text text-anchor=\"middle\" x=\"179.5\" y=\"-37.8\" font-family=\"Helvetica,sans-Serif\" font-size=\"14.00\" fill=\"#000000\">mse = 0.0</text>\n<text text-anchor=\"middle\" x=\"179.5\" y=\"-22.8\" font-family=\"Helvetica,sans-Serif\" font-size=\"14.00\" fill=\"#000000\">samples = 1</text>\n<text text-anchor=\"middle\" x=\"179.5\" y=\"-7.8\" font-family=\"Helvetica,sans-Serif\" font-size=\"14.00\" fill=\"#000000\">value = 0.477</text>\n</g>\n<!-- 0&#45;&gt;2 -->\n<g id=\"edge2\" class=\"edge\">\n<title>0&#45;&gt;2</title>\n<path fill=\"none\" stroke=\"#000000\" d=\"M138.7114,-88.9777C144.4504,-80.187 150.6412,-70.7044 156.4233,-61.8477\"/>\n<polygon fill=\"#000000\" stroke=\"#000000\" points=\"159.5013,-63.5354 162.0373,-53.2485 153.6398,-59.7087 159.5013,-63.5354\"/>\n<text text-anchor=\"middle\" x=\"167.1759\" y=\"-74.0147\" font-family=\"Helvetica,sans-Serif\" font-size=\"14.00\" fill=\"#000000\">False</text>\n</g>\n</g>\n</svg>\n"
          },
          "metadata": {
            "tags": []
          }
        }
      ]
    },
    {
      "cell_type": "code",
      "metadata": {
        "colab": {
          "base_uri": "https://localhost:8080/",
          "height": 34
        },
        "id": "yUHrklcWi3sp",
        "outputId": "be35658e-4587-4523-e656-bd26a035c608"
      },
      "source": [
        "sum_of_residual=0.130886+-0.523270+-0.523270+0.476730+0.130886\n",
        "denominator=2*0.869114*(1-0.869114)+3*0.523270*(1-0.523270)\n",
        "display(sum_of_residual/denominator)"
      ],
      "execution_count": 13,
      "outputs": [
        {
          "output_type": "display_data",
          "data": {
            "text/plain": [
              "-0.3156498224562022"
            ]
          },
          "metadata": {
            "tags": []
          }
        }
      ]
    },
    {
      "cell_type": "code",
      "metadata": {
        "colab": {
          "base_uri": "https://localhost:8080/"
        },
        "id": "CMUS2Heoi3sp",
        "outputId": "995885e3-c6d9-4689-dc00-4a7a16ed5baa"
      },
      "source": [
        "0.476730/(0.523270*(1-0.523270))"
      ],
      "execution_count": 14,
      "outputs": [
        {
          "output_type": "execute_result",
          "data": {
            "text/plain": [
              "1.9110593001700842"
            ]
          },
          "metadata": {
            "tags": []
          },
          "execution_count": 14
        }
      ]
    },
    {
      "cell_type": "code",
      "metadata": {
        "id": "2_ZGHqx0i3sp"
      },
      "source": [
        ""
      ],
      "execution_count": null,
      "outputs": []
    },
    {
      "cell_type": "code",
      "metadata": {
        "colab": {
          "base_uri": "https://localhost:8080/",
          "height": 510
        },
        "id": "9T0DcBMTi3sq",
        "outputId": "64525ee1-1f4d-4d1e-d8c7-e7433a8c0839"
      },
      "source": [
        "iteration(2)"
      ],
      "execution_count": 15,
      "outputs": [
        {
          "output_type": "stream",
          "text": [
            "[1 2 2 2 2 1]\n",
            "for leaf 1, we have 2 related samples. and gamma is 1.1938583610371274\n",
            "for leaf 2, we have 4 related samples. and gamma is -0.24439014590890917\n"
          ],
          "name": "stdout"
        },
        {
          "output_type": "display_data",
          "data": {
            "text/html": [
              "<div>\n",
              "<style scoped>\n",
              "    .dataframe tbody tr th:only-of-type {\n",
              "        vertical-align: middle;\n",
              "    }\n",
              "\n",
              "    .dataframe tbody tr th {\n",
              "        vertical-align: top;\n",
              "    }\n",
              "\n",
              "    .dataframe thead th {\n",
              "        text-align: right;\n",
              "    }\n",
              "</style>\n",
              "<table border=\"1\" class=\"dataframe\">\n",
              "  <thead>\n",
              "    <tr style=\"text-align: right;\">\n",
              "      <th></th>\n",
              "      <th>name</th>\n",
              "      <th>popcorn</th>\n",
              "      <th>age</th>\n",
              "      <th>color</th>\n",
              "      <th>y</th>\n",
              "      <th>$p_2$</th>\n",
              "      <th>$l_2$</th>\n",
              "      <th>$r_2$</th>\n",
              "      <th>$\\gamma_2$</th>\n",
              "      <th>$l_3$</th>\n",
              "      <th>$p_3$</th>\n",
              "    </tr>\n",
              "  </thead>\n",
              "  <tbody>\n",
              "    <tr>\n",
              "      <th>0</th>\n",
              "      <td>Jumana</td>\n",
              "      <td>1</td>\n",
              "      <td>10</td>\n",
              "      <td>Blue</td>\n",
              "      <td>1</td>\n",
              "      <td>0.837620</td>\n",
              "      <td>1.640627</td>\n",
              "      <td>0.162380</td>\n",
              "      <td>1.193858</td>\n",
              "      <td>2.595714</td>\n",
              "      <td>0.930585</td>\n",
              "    </tr>\n",
              "    <tr>\n",
              "      <th>1</th>\n",
              "      <td>Jerry</td>\n",
              "      <td>1</td>\n",
              "      <td>90</td>\n",
              "      <td>Green</td>\n",
              "      <td>1</td>\n",
              "      <td>0.835070</td>\n",
              "      <td>1.621995</td>\n",
              "      <td>0.164930</td>\n",
              "      <td>-0.244390</td>\n",
              "      <td>1.426483</td>\n",
              "      <td>0.806353</td>\n",
              "    </tr>\n",
              "    <tr>\n",
              "      <th>2</th>\n",
              "      <td>Jacky</td>\n",
              "      <td>0</td>\n",
              "      <td>30</td>\n",
              "      <td>Blue</td>\n",
              "      <td>0</td>\n",
              "      <td>0.460241</td>\n",
              "      <td>-0.159373</td>\n",
              "      <td>-0.460241</td>\n",
              "      <td>-0.244390</td>\n",
              "      <td>-0.354885</td>\n",
              "      <td>0.412198</td>\n",
              "    </tr>\n",
              "    <tr>\n",
              "      <th>3</th>\n",
              "      <td>David</td>\n",
              "      <td>1</td>\n",
              "      <td>30</td>\n",
              "      <td>Red</td>\n",
              "      <td>0</td>\n",
              "      <td>0.460241</td>\n",
              "      <td>-0.159373</td>\n",
              "      <td>-0.460241</td>\n",
              "      <td>-0.244390</td>\n",
              "      <td>-0.354885</td>\n",
              "      <td>0.412198</td>\n",
              "    </tr>\n",
              "    <tr>\n",
              "      <th>4</th>\n",
              "      <td>Eric</td>\n",
              "      <td>0</td>\n",
              "      <td>30</td>\n",
              "      <td>Green</td>\n",
              "      <td>1</td>\n",
              "      <td>0.460241</td>\n",
              "      <td>-0.159373</td>\n",
              "      <td>0.539759</td>\n",
              "      <td>-0.244390</td>\n",
              "      <td>-0.354885</td>\n",
              "      <td>0.412198</td>\n",
              "    </tr>\n",
              "    <tr>\n",
              "      <th>5</th>\n",
              "      <td>John</td>\n",
              "      <td>0</td>\n",
              "      <td>10</td>\n",
              "      <td>Blue</td>\n",
              "      <td>1</td>\n",
              "      <td>0.837620</td>\n",
              "      <td>1.640627</td>\n",
              "      <td>0.162380</td>\n",
              "      <td>1.193858</td>\n",
              "      <td>2.595714</td>\n",
              "      <td>0.930585</td>\n",
              "    </tr>\n",
              "  </tbody>\n",
              "</table>\n",
              "</div>"
            ],
            "text/plain": [
              "     name  popcorn  age  color  ...     $r_2$  $\\gamma_2$     $l_3$     $p_3$\n",
              "0  Jumana        1   10   Blue  ...  0.162380    1.193858  2.595714  0.930585\n",
              "1   Jerry        1   90  Green  ...  0.164930   -0.244390  1.426483  0.806353\n",
              "2   Jacky        0   30   Blue  ... -0.460241   -0.244390 -0.354885  0.412198\n",
              "3   David        1   30    Red  ... -0.460241   -0.244390 -0.354885  0.412198\n",
              "4    Eric        0   30  Green  ...  0.539759   -0.244390 -0.354885  0.412198\n",
              "5    John        0   10   Blue  ...  0.162380    1.193858  2.595714  0.930585\n",
              "\n",
              "[6 rows x 11 columns]"
            ]
          },
          "metadata": {
            "tags": []
          }
        },
        {
          "output_type": "display_data",
          "data": {
            "text/plain": [
              "<graphviz.files.Source at 0x7f6656ef8c18>"
            ],
            "image/svg+xml": "<?xml version=\"1.0\" encoding=\"UTF-8\" standalone=\"no\"?>\n<!DOCTYPE svg PUBLIC \"-//W3C//DTD SVG 1.1//EN\"\n \"http://www.w3.org/Graphics/SVG/1.1/DTD/svg11.dtd\">\n<!-- Generated by graphviz version 2.40.1 (20161225.0304)\n -->\n<!-- Title: Tree Pages: 1 -->\n<svg width=\"240pt\" height=\"165pt\"\n viewBox=\"0.00 0.00 239.50 165.00\" xmlns=\"http://www.w3.org/2000/svg\" xmlns:xlink=\"http://www.w3.org/1999/xlink\">\n<g id=\"graph0\" class=\"graph\" transform=\"scale(1 1) rotate(0) translate(4 161)\">\n<title>Tree</title>\n<polygon fill=\"#ffffff\" stroke=\"transparent\" points=\"-4,4 -4,-161 235.5,-161 235.5,4 -4,4\"/>\n<!-- 0 -->\n<g id=\"node1\" class=\"node\">\n<title>0</title>\n<path fill=\"#f6d5bd\" stroke=\"#000000\" d=\"M154,-157C154,-157 74,-157 74,-157 68,-157 62,-151 62,-145 62,-145 62,-101 62,-101 62,-95 68,-89 74,-89 74,-89 154,-89 154,-89 160,-89 166,-95 166,-101 166,-101 166,-145 166,-145 166,-151 160,-157 154,-157\"/>\n<text text-anchor=\"middle\" x=\"114\" y=\"-141.8\" font-family=\"Helvetica,sans-Serif\" font-size=\"14.00\" fill=\"#000000\">age &lt;= 20.0</text>\n<text text-anchor=\"middle\" x=\"114\" y=\"-126.8\" font-family=\"Helvetica,sans-Serif\" font-size=\"14.00\" fill=\"#000000\">mse = 0.132</text>\n<text text-anchor=\"middle\" x=\"114\" y=\"-111.8\" font-family=\"Helvetica,sans-Serif\" font-size=\"14.00\" fill=\"#000000\">samples = 6</text>\n<text text-anchor=\"middle\" x=\"114\" y=\"-96.8\" font-family=\"Helvetica,sans-Serif\" font-size=\"14.00\" fill=\"#000000\">value = 0.018</text>\n</g>\n<!-- 1 -->\n<g id=\"node2\" class=\"node\">\n<title>1</title>\n<path fill=\"#e58139\" stroke=\"#000000\" d=\"M92,-53C92,-53 12,-53 12,-53 6,-53 0,-47 0,-41 0,-41 0,-12 0,-12 0,-6 6,0 12,0 12,0 92,0 92,0 98,0 104,-6 104,-12 104,-12 104,-41 104,-41 104,-47 98,-53 92,-53\"/>\n<text text-anchor=\"middle\" x=\"52\" y=\"-37.8\" font-family=\"Helvetica,sans-Serif\" font-size=\"14.00\" fill=\"#000000\">mse = 0.0</text>\n<text text-anchor=\"middle\" x=\"52\" y=\"-22.8\" font-family=\"Helvetica,sans-Serif\" font-size=\"14.00\" fill=\"#000000\">samples = 2</text>\n<text text-anchor=\"middle\" x=\"52\" y=\"-7.8\" font-family=\"Helvetica,sans-Serif\" font-size=\"14.00\" fill=\"#000000\">value = 0.162</text>\n</g>\n<!-- 0&#45;&gt;1 -->\n<g id=\"edge1\" class=\"edge\">\n<title>0&#45;&gt;1</title>\n<path fill=\"none\" stroke=\"#000000\" d=\"M92.1411,-88.9777C86.4932,-80.187 80.4007,-70.7044 74.7104,-61.8477\"/>\n<polygon fill=\"#000000\" stroke=\"#000000\" points=\"77.5356,-59.7698 69.1856,-53.2485 71.6463,-63.5536 77.5356,-59.7698\"/>\n<text text-anchor=\"middle\" x=\"63.8684\" y=\"-73.9765\" font-family=\"Helvetica,sans-Serif\" font-size=\"14.00\" fill=\"#000000\">True</text>\n</g>\n<!-- 2 -->\n<g id=\"node3\" class=\"node\">\n<title>2</title>\n<path fill=\"#ffffff\" stroke=\"#000000\" d=\"M219.5,-53C219.5,-53 134.5,-53 134.5,-53 128.5,-53 122.5,-47 122.5,-41 122.5,-41 122.5,-12 122.5,-12 122.5,-6 128.5,0 134.5,0 134.5,0 219.5,0 219.5,0 225.5,0 231.5,-6 231.5,-12 231.5,-12 231.5,-41 231.5,-41 231.5,-47 225.5,-53 219.5,-53\"/>\n<text text-anchor=\"middle\" x=\"177\" y=\"-37.8\" font-family=\"Helvetica,sans-Serif\" font-size=\"14.00\" fill=\"#000000\">mse = 0.183</text>\n<text text-anchor=\"middle\" x=\"177\" y=\"-22.8\" font-family=\"Helvetica,sans-Serif\" font-size=\"14.00\" fill=\"#000000\">samples = 4</text>\n<text text-anchor=\"middle\" x=\"177\" y=\"-7.8\" font-family=\"Helvetica,sans-Serif\" font-size=\"14.00\" fill=\"#000000\">value = &#45;0.054</text>\n</g>\n<!-- 0&#45;&gt;2 -->\n<g id=\"edge2\" class=\"edge\">\n<title>0&#45;&gt;2</title>\n<path fill=\"none\" stroke=\"#000000\" d=\"M136.2114,-88.9777C141.9504,-80.187 148.1412,-70.7044 153.9233,-61.8477\"/>\n<polygon fill=\"#000000\" stroke=\"#000000\" points=\"157.0013,-63.5354 159.5373,-53.2485 151.1398,-59.7087 157.0013,-63.5354\"/>\n<text text-anchor=\"middle\" x=\"164.6759\" y=\"-74.0147\" font-family=\"Helvetica,sans-Serif\" font-size=\"14.00\" fill=\"#000000\">False</text>\n</g>\n</g>\n</svg>\n"
          },
          "metadata": {
            "tags": []
          }
        }
      ]
    },
    {
      "cell_type": "code",
      "metadata": {
        "colab": {
          "base_uri": "https://localhost:8080/",
          "height": 510
        },
        "id": "8Ncodtmwi3sq",
        "outputId": "ff111bc7-d7e7-4434-b65c-62b98117abd0"
      },
      "source": [
        "iteration(3)"
      ],
      "execution_count": 16,
      "outputs": [
        {
          "output_type": "stream",
          "text": [
            "[1 2 1 1 1 1]\n",
            "for leaf 1, we have 5 related samples. and gamma is -0.11420357619360062\n",
            "for leaf 2, we have 1 related samples. and gamma is 1.2401521534064346\n"
          ],
          "name": "stdout"
        },
        {
          "output_type": "display_data",
          "data": {
            "text/html": [
              "<div>\n",
              "<style scoped>\n",
              "    .dataframe tbody tr th:only-of-type {\n",
              "        vertical-align: middle;\n",
              "    }\n",
              "\n",
              "    .dataframe tbody tr th {\n",
              "        vertical-align: top;\n",
              "    }\n",
              "\n",
              "    .dataframe thead th {\n",
              "        text-align: right;\n",
              "    }\n",
              "</style>\n",
              "<table border=\"1\" class=\"dataframe\">\n",
              "  <thead>\n",
              "    <tr style=\"text-align: right;\">\n",
              "      <th></th>\n",
              "      <th>name</th>\n",
              "      <th>popcorn</th>\n",
              "      <th>age</th>\n",
              "      <th>color</th>\n",
              "      <th>y</th>\n",
              "      <th>$p_3$</th>\n",
              "      <th>$l_3$</th>\n",
              "      <th>$r_3$</th>\n",
              "      <th>$\\gamma_3$</th>\n",
              "      <th>$l_4$</th>\n",
              "      <th>$p_4$</th>\n",
              "    </tr>\n",
              "  </thead>\n",
              "  <tbody>\n",
              "    <tr>\n",
              "      <th>0</th>\n",
              "      <td>Jumana</td>\n",
              "      <td>1</td>\n",
              "      <td>10</td>\n",
              "      <td>Blue</td>\n",
              "      <td>1</td>\n",
              "      <td>0.930585</td>\n",
              "      <td>2.595714</td>\n",
              "      <td>0.069415</td>\n",
              "      <td>-0.114204</td>\n",
              "      <td>2.504351</td>\n",
              "      <td>0.924446</td>\n",
              "    </tr>\n",
              "    <tr>\n",
              "      <th>1</th>\n",
              "      <td>Jerry</td>\n",
              "      <td>1</td>\n",
              "      <td>90</td>\n",
              "      <td>Green</td>\n",
              "      <td>1</td>\n",
              "      <td>0.806353</td>\n",
              "      <td>1.426483</td>\n",
              "      <td>0.193647</td>\n",
              "      <td>1.240152</td>\n",
              "      <td>2.418604</td>\n",
              "      <td>0.918235</td>\n",
              "    </tr>\n",
              "    <tr>\n",
              "      <th>2</th>\n",
              "      <td>Jacky</td>\n",
              "      <td>0</td>\n",
              "      <td>30</td>\n",
              "      <td>Blue</td>\n",
              "      <td>0</td>\n",
              "      <td>0.412198</td>\n",
              "      <td>-0.354885</td>\n",
              "      <td>-0.412198</td>\n",
              "      <td>-0.114204</td>\n",
              "      <td>-0.446247</td>\n",
              "      <td>0.390253</td>\n",
              "    </tr>\n",
              "    <tr>\n",
              "      <th>3</th>\n",
              "      <td>David</td>\n",
              "      <td>1</td>\n",
              "      <td>30</td>\n",
              "      <td>Red</td>\n",
              "      <td>0</td>\n",
              "      <td>0.412198</td>\n",
              "      <td>-0.354885</td>\n",
              "      <td>-0.412198</td>\n",
              "      <td>-0.114204</td>\n",
              "      <td>-0.446247</td>\n",
              "      <td>0.390253</td>\n",
              "    </tr>\n",
              "    <tr>\n",
              "      <th>4</th>\n",
              "      <td>Eric</td>\n",
              "      <td>0</td>\n",
              "      <td>30</td>\n",
              "      <td>Green</td>\n",
              "      <td>1</td>\n",
              "      <td>0.412198</td>\n",
              "      <td>-0.354885</td>\n",
              "      <td>0.587802</td>\n",
              "      <td>-0.114204</td>\n",
              "      <td>-0.446247</td>\n",
              "      <td>0.390253</td>\n",
              "    </tr>\n",
              "    <tr>\n",
              "      <th>5</th>\n",
              "      <td>John</td>\n",
              "      <td>0</td>\n",
              "      <td>10</td>\n",
              "      <td>Blue</td>\n",
              "      <td>1</td>\n",
              "      <td>0.930585</td>\n",
              "      <td>2.595714</td>\n",
              "      <td>0.069415</td>\n",
              "      <td>-0.114204</td>\n",
              "      <td>2.504351</td>\n",
              "      <td>0.924446</td>\n",
              "    </tr>\n",
              "  </tbody>\n",
              "</table>\n",
              "</div>"
            ],
            "text/plain": [
              "     name  popcorn  age  color  ...     $r_3$  $\\gamma_3$     $l_4$     $p_4$\n",
              "0  Jumana        1   10   Blue  ...  0.069415   -0.114204  2.504351  0.924446\n",
              "1   Jerry        1   90  Green  ...  0.193647    1.240152  2.418604  0.918235\n",
              "2   Jacky        0   30   Blue  ... -0.412198   -0.114204 -0.446247  0.390253\n",
              "3   David        1   30    Red  ... -0.412198   -0.114204 -0.446247  0.390253\n",
              "4    Eric        0   30  Green  ...  0.587802   -0.114204 -0.446247  0.390253\n",
              "5    John        0   10   Blue  ...  0.069415   -0.114204  2.504351  0.924446\n",
              "\n",
              "[6 rows x 11 columns]"
            ]
          },
          "metadata": {
            "tags": []
          }
        },
        {
          "output_type": "display_data",
          "data": {
            "text/plain": [
              "<graphviz.files.Source at 0x7f6656f08940>"
            ],
            "image/svg+xml": "<?xml version=\"1.0\" encoding=\"UTF-8\" standalone=\"no\"?>\n<!DOCTYPE svg PUBLIC \"-//W3C//DTD SVG 1.1//EN\"\n \"http://www.w3.org/Graphics/SVG/1.1/DTD/svg11.dtd\">\n<!-- Generated by graphviz version 2.40.1 (20161225.0304)\n -->\n<!-- Title: Tree Pages: 1 -->\n<svg width=\"232pt\" height=\"165pt\"\n viewBox=\"0.00 0.00 231.50 165.00\" xmlns=\"http://www.w3.org/2000/svg\" xmlns:xlink=\"http://www.w3.org/1999/xlink\">\n<g id=\"graph0\" class=\"graph\" transform=\"scale(1 1) rotate(0) translate(4 161)\">\n<title>Tree</title>\n<polygon fill=\"#ffffff\" stroke=\"transparent\" points=\"-4,4 -4,-161 227.5,-161 227.5,4 -4,4\"/>\n<!-- 0 -->\n<g id=\"node1\" class=\"node\">\n<title>0</title>\n<path fill=\"#fbeade\" stroke=\"#000000\" d=\"M150.5,-157C150.5,-157 70.5,-157 70.5,-157 64.5,-157 58.5,-151 58.5,-145 58.5,-145 58.5,-101 58.5,-101 58.5,-95 64.5,-89 70.5,-89 70.5,-89 150.5,-89 150.5,-89 156.5,-89 162.5,-95 162.5,-101 162.5,-101 162.5,-145 162.5,-145 162.5,-151 156.5,-157 150.5,-157\"/>\n<text text-anchor=\"middle\" x=\"110.5\" y=\"-141.8\" font-family=\"Helvetica,sans-Serif\" font-size=\"14.00\" fill=\"#000000\">age &lt;= 60.0</text>\n<text text-anchor=\"middle\" x=\"110.5\" y=\"-126.8\" font-family=\"Helvetica,sans-Serif\" font-size=\"14.00\" fill=\"#000000\">mse = 0.122</text>\n<text text-anchor=\"middle\" x=\"110.5\" y=\"-111.8\" font-family=\"Helvetica,sans-Serif\" font-size=\"14.00\" fill=\"#000000\">samples = 6</text>\n<text text-anchor=\"middle\" x=\"110.5\" y=\"-96.8\" font-family=\"Helvetica,sans-Serif\" font-size=\"14.00\" fill=\"#000000\">value = 0.016</text>\n</g>\n<!-- 1 -->\n<g id=\"node2\" class=\"node\">\n<title>1</title>\n<path fill=\"#ffffff\" stroke=\"#000000\" d=\"M89,-53C89,-53 12,-53 12,-53 6,-53 0,-47 0,-41 0,-41 0,-12 0,-12 0,-6 6,0 12,0 12,0 89,0 89,0 95,0 101,-6 101,-12 101,-12 101,-41 101,-41 101,-47 95,-53 89,-53\"/>\n<text text-anchor=\"middle\" x=\"50.5\" y=\"-37.8\" font-family=\"Helvetica,sans-Serif\" font-size=\"14.00\" fill=\"#000000\">mse = 0.139</text>\n<text text-anchor=\"middle\" x=\"50.5\" y=\"-22.8\" font-family=\"Helvetica,sans-Serif\" font-size=\"14.00\" fill=\"#000000\">samples = 5</text>\n<text text-anchor=\"middle\" x=\"50.5\" y=\"-7.8\" font-family=\"Helvetica,sans-Serif\" font-size=\"14.00\" fill=\"#000000\">value = &#45;0.02</text>\n</g>\n<!-- 0&#45;&gt;1 -->\n<g id=\"edge1\" class=\"edge\">\n<title>0&#45;&gt;1</title>\n<path fill=\"none\" stroke=\"#000000\" d=\"M89.3462,-88.9777C83.8805,-80.187 77.9846,-70.7044 72.4778,-61.8477\"/>\n<polygon fill=\"#000000\" stroke=\"#000000\" points=\"75.3837,-59.8927 67.1312,-53.2485 69.4391,-63.5889 75.3837,-59.8927\"/>\n<text text-anchor=\"middle\" x=\"61.4529\" y=\"-73.8951\" font-family=\"Helvetica,sans-Serif\" font-size=\"14.00\" fill=\"#000000\">True</text>\n</g>\n<!-- 2 -->\n<g id=\"node3\" class=\"node\">\n<title>2</title>\n<path fill=\"#e58139\" stroke=\"#000000\" d=\"M211.5,-53C211.5,-53 131.5,-53 131.5,-53 125.5,-53 119.5,-47 119.5,-41 119.5,-41 119.5,-12 119.5,-12 119.5,-6 125.5,0 131.5,0 131.5,0 211.5,0 211.5,0 217.5,0 223.5,-6 223.5,-12 223.5,-12 223.5,-41 223.5,-41 223.5,-47 217.5,-53 211.5,-53\"/>\n<text text-anchor=\"middle\" x=\"171.5\" y=\"-37.8\" font-family=\"Helvetica,sans-Serif\" font-size=\"14.00\" fill=\"#000000\">mse = &#45;0.0</text>\n<text text-anchor=\"middle\" x=\"171.5\" y=\"-22.8\" font-family=\"Helvetica,sans-Serif\" font-size=\"14.00\" fill=\"#000000\">samples = 1</text>\n<text text-anchor=\"middle\" x=\"171.5\" y=\"-7.8\" font-family=\"Helvetica,sans-Serif\" font-size=\"14.00\" fill=\"#000000\">value = 0.194</text>\n</g>\n<!-- 0&#45;&gt;2 -->\n<g id=\"edge2\" class=\"edge\">\n<title>0&#45;&gt;2</title>\n<path fill=\"none\" stroke=\"#000000\" d=\"M132.0063,-88.9777C137.5631,-80.187 143.5573,-70.7044 149.1559,-61.8477\"/>\n<polygon fill=\"#000000\" stroke=\"#000000\" points=\"152.2069,-63.5714 154.5916,-53.2485 146.2899,-59.8312 152.2069,-63.5714\"/>\n<text text-anchor=\"middle\" x=\"160.0887\" y=\"-73.9366\" font-family=\"Helvetica,sans-Serif\" font-size=\"14.00\" fill=\"#000000\">False</text>\n</g>\n</g>\n</svg>\n"
          },
          "metadata": {
            "tags": []
          }
        }
      ]
    },
    {
      "cell_type": "code",
      "metadata": {
        "colab": {
          "base_uri": "https://localhost:8080/",
          "height": 510
        },
        "id": "ribubls9i3sq",
        "outputId": "24c2240b-df8b-4f0f-ca4c-01290a2c99af"
      },
      "source": [
        "iteration(4)"
      ],
      "execution_count": 17,
      "outputs": [
        {
          "output_type": "stream",
          "text": [
            "[2 2 1 2 1 1]\n",
            "for leaf 1, we have 3 related samples. and gamma is 0.5406201302738854\n",
            "for leaf 2, we have 3 related samples. and gamma is -0.6083743125192569\n"
          ],
          "name": "stdout"
        },
        {
          "output_type": "display_data",
          "data": {
            "text/html": [
              "<div>\n",
              "<style scoped>\n",
              "    .dataframe tbody tr th:only-of-type {\n",
              "        vertical-align: middle;\n",
              "    }\n",
              "\n",
              "    .dataframe tbody tr th {\n",
              "        vertical-align: top;\n",
              "    }\n",
              "\n",
              "    .dataframe thead th {\n",
              "        text-align: right;\n",
              "    }\n",
              "</style>\n",
              "<table border=\"1\" class=\"dataframe\">\n",
              "  <thead>\n",
              "    <tr style=\"text-align: right;\">\n",
              "      <th></th>\n",
              "      <th>name</th>\n",
              "      <th>popcorn</th>\n",
              "      <th>age</th>\n",
              "      <th>color</th>\n",
              "      <th>y</th>\n",
              "      <th>$p_4$</th>\n",
              "      <th>$l_4$</th>\n",
              "      <th>$r_4$</th>\n",
              "      <th>$\\gamma_4$</th>\n",
              "      <th>$l_5$</th>\n",
              "      <th>$p_5$</th>\n",
              "    </tr>\n",
              "  </thead>\n",
              "  <tbody>\n",
              "    <tr>\n",
              "      <th>0</th>\n",
              "      <td>Jumana</td>\n",
              "      <td>1</td>\n",
              "      <td>10</td>\n",
              "      <td>Blue</td>\n",
              "      <td>1</td>\n",
              "      <td>0.924446</td>\n",
              "      <td>2.504351</td>\n",
              "      <td>0.075554</td>\n",
              "      <td>-0.608374</td>\n",
              "      <td>2.017652</td>\n",
              "      <td>0.882638</td>\n",
              "    </tr>\n",
              "    <tr>\n",
              "      <th>1</th>\n",
              "      <td>Jerry</td>\n",
              "      <td>1</td>\n",
              "      <td>90</td>\n",
              "      <td>Green</td>\n",
              "      <td>1</td>\n",
              "      <td>0.918235</td>\n",
              "      <td>2.418604</td>\n",
              "      <td>0.081765</td>\n",
              "      <td>-0.608374</td>\n",
              "      <td>1.931905</td>\n",
              "      <td>0.873460</td>\n",
              "    </tr>\n",
              "    <tr>\n",
              "      <th>2</th>\n",
              "      <td>Jacky</td>\n",
              "      <td>0</td>\n",
              "      <td>30</td>\n",
              "      <td>Blue</td>\n",
              "      <td>0</td>\n",
              "      <td>0.390253</td>\n",
              "      <td>-0.446247</td>\n",
              "      <td>-0.390253</td>\n",
              "      <td>0.540620</td>\n",
              "      <td>-0.013751</td>\n",
              "      <td>0.496562</td>\n",
              "    </tr>\n",
              "    <tr>\n",
              "      <th>3</th>\n",
              "      <td>David</td>\n",
              "      <td>1</td>\n",
              "      <td>30</td>\n",
              "      <td>Red</td>\n",
              "      <td>0</td>\n",
              "      <td>0.390253</td>\n",
              "      <td>-0.446247</td>\n",
              "      <td>-0.390253</td>\n",
              "      <td>-0.608374</td>\n",
              "      <td>-0.932947</td>\n",
              "      <td>0.282327</td>\n",
              "    </tr>\n",
              "    <tr>\n",
              "      <th>4</th>\n",
              "      <td>Eric</td>\n",
              "      <td>0</td>\n",
              "      <td>30</td>\n",
              "      <td>Green</td>\n",
              "      <td>1</td>\n",
              "      <td>0.390253</td>\n",
              "      <td>-0.446247</td>\n",
              "      <td>0.609747</td>\n",
              "      <td>0.540620</td>\n",
              "      <td>-0.013751</td>\n",
              "      <td>0.496562</td>\n",
              "    </tr>\n",
              "    <tr>\n",
              "      <th>5</th>\n",
              "      <td>John</td>\n",
              "      <td>0</td>\n",
              "      <td>10</td>\n",
              "      <td>Blue</td>\n",
              "      <td>1</td>\n",
              "      <td>0.924446</td>\n",
              "      <td>2.504351</td>\n",
              "      <td>0.075554</td>\n",
              "      <td>0.540620</td>\n",
              "      <td>2.936847</td>\n",
              "      <td>0.949638</td>\n",
              "    </tr>\n",
              "  </tbody>\n",
              "</table>\n",
              "</div>"
            ],
            "text/plain": [
              "     name  popcorn  age  color  ...     $r_4$  $\\gamma_4$     $l_5$     $p_5$\n",
              "0  Jumana        1   10   Blue  ...  0.075554   -0.608374  2.017652  0.882638\n",
              "1   Jerry        1   90  Green  ...  0.081765   -0.608374  1.931905  0.873460\n",
              "2   Jacky        0   30   Blue  ... -0.390253    0.540620 -0.013751  0.496562\n",
              "3   David        1   30    Red  ... -0.390253   -0.608374 -0.932947  0.282327\n",
              "4    Eric        0   30  Green  ...  0.609747    0.540620 -0.013751  0.496562\n",
              "5    John        0   10   Blue  ...  0.075554    0.540620  2.936847  0.949638\n",
              "\n",
              "[6 rows x 11 columns]"
            ]
          },
          "metadata": {
            "tags": []
          }
        },
        {
          "output_type": "display_data",
          "data": {
            "text/plain": [
              "<graphviz.files.Source at 0x7f6656f08860>"
            ],
            "image/svg+xml": "<?xml version=\"1.0\" encoding=\"UTF-8\" standalone=\"no\"?>\n<!DOCTYPE svg PUBLIC \"-//W3C//DTD SVG 1.1//EN\"\n \"http://www.w3.org/Graphics/SVG/1.1/DTD/svg11.dtd\">\n<!-- Generated by graphviz version 2.40.1 (20161225.0304)\n -->\n<!-- Title: Tree Pages: 1 -->\n<svg width=\"240pt\" height=\"165pt\"\n viewBox=\"0.00 0.00 239.50 165.00\" xmlns=\"http://www.w3.org/2000/svg\" xmlns:xlink=\"http://www.w3.org/1999/xlink\">\n<g id=\"graph0\" class=\"graph\" transform=\"scale(1 1) rotate(0) translate(4 161)\">\n<title>Tree</title>\n<polygon fill=\"#ffffff\" stroke=\"transparent\" points=\"-4,4 -4,-161 235.5,-161 235.5,4 -4,4\"/>\n<!-- 0 -->\n<g id=\"node1\" class=\"node\">\n<title>0</title>\n<path fill=\"#f2c09c\" stroke=\"#000000\" d=\"M178,-157C178,-157 50,-157 50,-157 44,-157 38,-151 38,-145 38,-145 38,-101 38,-101 38,-95 44,-89 50,-89 50,-89 178,-89 178,-89 184,-89 190,-95 190,-101 190,-101 190,-145 190,-145 190,-151 184,-157 178,-157\"/>\n<text text-anchor=\"middle\" x=\"114\" y=\"-141.8\" font-family=\"Helvetica,sans-Serif\" font-size=\"14.00\" fill=\"#000000\">likes_popcorn &lt;= 0.5</text>\n<text text-anchor=\"middle\" x=\"114\" y=\"-126.8\" font-family=\"Helvetica,sans-Serif\" font-size=\"14.00\" fill=\"#000000\">mse = 0.116</text>\n<text text-anchor=\"middle\" x=\"114\" y=\"-111.8\" font-family=\"Helvetica,sans-Serif\" font-size=\"14.00\" fill=\"#000000\">samples = 6</text>\n<text text-anchor=\"middle\" x=\"114\" y=\"-96.8\" font-family=\"Helvetica,sans-Serif\" font-size=\"14.00\" fill=\"#000000\">value = 0.01</text>\n</g>\n<!-- 1 -->\n<g id=\"node2\" class=\"node\">\n<title>1</title>\n<path fill=\"#e58139\" stroke=\"#000000\" d=\"M92,-53C92,-53 12,-53 12,-53 6,-53 0,-47 0,-41 0,-41 0,-12 0,-12 0,-6 6,0 12,0 12,0 92,0 92,0 98,0 104,-6 104,-12 104,-12 104,-41 104,-41 104,-47 98,-53 92,-53\"/>\n<text text-anchor=\"middle\" x=\"52\" y=\"-37.8\" font-family=\"Helvetica,sans-Serif\" font-size=\"14.00\" fill=\"#000000\">mse = 0.167</text>\n<text text-anchor=\"middle\" x=\"52\" y=\"-22.8\" font-family=\"Helvetica,sans-Serif\" font-size=\"14.00\" fill=\"#000000\">samples = 3</text>\n<text text-anchor=\"middle\" x=\"52\" y=\"-7.8\" font-family=\"Helvetica,sans-Serif\" font-size=\"14.00\" fill=\"#000000\">value = 0.098</text>\n</g>\n<!-- 0&#45;&gt;1 -->\n<g id=\"edge1\" class=\"edge\">\n<title>0&#45;&gt;1</title>\n<path fill=\"none\" stroke=\"#000000\" d=\"M92.1411,-88.9777C86.4932,-80.187 80.4007,-70.7044 74.7104,-61.8477\"/>\n<polygon fill=\"#000000\" stroke=\"#000000\" points=\"77.5356,-59.7698 69.1856,-53.2485 71.6463,-63.5536 77.5356,-59.7698\"/>\n<text text-anchor=\"middle\" x=\"63.8684\" y=\"-73.9765\" font-family=\"Helvetica,sans-Serif\" font-size=\"14.00\" fill=\"#000000\">True</text>\n</g>\n<!-- 2 -->\n<g id=\"node3\" class=\"node\">\n<title>2</title>\n<path fill=\"#ffffff\" stroke=\"#000000\" d=\"M219.5,-53C219.5,-53 134.5,-53 134.5,-53 128.5,-53 122.5,-47 122.5,-41 122.5,-41 122.5,-12 122.5,-12 122.5,-6 128.5,0 134.5,0 134.5,0 219.5,0 219.5,0 225.5,0 231.5,-6 231.5,-12 231.5,-12 231.5,-41 231.5,-41 231.5,-47 225.5,-53 219.5,-53\"/>\n<text text-anchor=\"middle\" x=\"177\" y=\"-37.8\" font-family=\"Helvetica,sans-Serif\" font-size=\"14.00\" fill=\"#000000\">mse = 0.049</text>\n<text text-anchor=\"middle\" x=\"177\" y=\"-22.8\" font-family=\"Helvetica,sans-Serif\" font-size=\"14.00\" fill=\"#000000\">samples = 3</text>\n<text text-anchor=\"middle\" x=\"177\" y=\"-7.8\" font-family=\"Helvetica,sans-Serif\" font-size=\"14.00\" fill=\"#000000\">value = &#45;0.078</text>\n</g>\n<!-- 0&#45;&gt;2 -->\n<g id=\"edge2\" class=\"edge\">\n<title>0&#45;&gt;2</title>\n<path fill=\"none\" stroke=\"#000000\" d=\"M136.2114,-88.9777C141.9504,-80.187 148.1412,-70.7044 153.9233,-61.8477\"/>\n<polygon fill=\"#000000\" stroke=\"#000000\" points=\"157.0013,-63.5354 159.5373,-53.2485 151.1398,-59.7087 157.0013,-63.5354\"/>\n<text text-anchor=\"middle\" x=\"164.6759\" y=\"-74.0147\" font-family=\"Helvetica,sans-Serif\" font-size=\"14.00\" fill=\"#000000\">False</text>\n</g>\n</g>\n</svg>\n"
          },
          "metadata": {
            "tags": []
          }
        }
      ]
    },
    {
      "cell_type": "code",
      "metadata": {
        "id": "H_iFvPDGi3sq"
      },
      "source": [
        ""
      ],
      "execution_count": null,
      "outputs": []
    },
    {
      "cell_type": "code",
      "metadata": {
        "colab": {
          "base_uri": "https://localhost:8080/",
          "height": 265
        },
        "id": "mSNGxGc4i3sq",
        "outputId": "478ce84b-63da-4d34-cf87-b5aef266b744"
      },
      "source": [
        "plt.plot(score)\n",
        "plt.show()"
      ],
      "execution_count": 18,
      "outputs": [
        {
          "output_type": "display_data",
          "data": {
            "image/png": "[encoded data removed]",
            "text/plain": [
              "<Figure size 432x288 with 1 Axes>"
            ]
          },
          "metadata": {
            "tags": [],
            "needs_background": "light"
          }
        }
      ]
    },
    {
      "cell_type": "code",
      "metadata": {
        "colab": {
          "base_uri": "https://localhost:8080/",
          "height": 265
        },
        "id": "b2qvuZXXi3sq",
        "outputId": "0f4c0199-3473-48b6-eefa-d5d927cc6adc"
      },
      "source": [
        "plt.plot(loss)\n",
        "plt.show()"
      ],
      "execution_count": 19,
      "outputs": [
        {
          "output_type": "display_data",
          "data": {
            "image/png": "[encoded data removed]",
            "text/plain": [
              "<Figure size 432x288 with 1 Axes>"
            ]
          },
          "metadata": {
            "tags": [],
            "needs_background": "light"
          }
        }
      ]
    },
    {
      "cell_type": "markdown",
      "metadata": {
        "id": "njTNtsCNi3sr"
      },
      "source": [
        "# Example 2 (Breast Cancer Dataset)\n",
        "## Load data"
      ]
    },
    {
      "cell_type": "code",
      "metadata": {
        "colab": {
          "base_uri": "https://localhost:8080/"
        },
        "id": "Y7_sCwkdi3sr",
        "outputId": "7e95177f-d000-4734-90eb-5a2a2853e75c"
      },
      "source": [
        "cancer=load_breast_cancer()\n",
        "n_samples = len(cancer.target)\n",
        "X = cancer.data\n",
        "y = cancer.target\n",
        "total=len(y)\n",
        "has_cancer=np.sum(y)\n",
        "no_cancer=total-has_cancer\n",
        "print(f'{has_cancer} out of {total} persons have cancer')\n",
        "print(f'features {X.shape[1]}')"
      ],
      "execution_count": 20,
      "outputs": [
        {
          "output_type": "stream",
          "text": [
            "357 out of 569 persons have cancer\n",
            "features 30\n"
          ],
          "name": "stdout"
        }
      ]
    },
    {
      "cell_type": "markdown",
      "metadata": {
        "id": "QsakLubXi3sr"
      },
      "source": [
        "## Step 1 Log of Odds"
      ]
    },
    {
      "cell_type": "code",
      "metadata": {
        "scrolled": true,
        "colab": {
          "base_uri": "https://localhost:8080/"
        },
        "id": "uEST_ie6i3sr",
        "outputId": "d8444a6f-c031-4e70-d1b2-25d6cf45b6d1"
      },
      "source": [
        "log_of_odds0=np.log(has_cancer / no_cancer)\n",
        "probability0=np.exp(log_of_odds0)/(np.exp(log_of_odds0)+1)\n",
        "print(f'the log_of_odds is : {log_of_odds0}')\n",
        "print(f'the probability is : {probability0}')\n",
        "predict0=1"
      ],
      "execution_count": 21,
      "outputs": [
        {
          "output_type": "stream",
          "text": [
            "the log_of_odds is : 0.5211495071076265\n",
            "the probability is : 0.6274165202108963\n"
          ],
          "name": "stdout"
        }
      ]
    },
    {
      "cell_type": "markdown",
      "metadata": {
        "id": "s0tdg7LPi3sr"
      },
      "source": [
        "## Step 2 For Loop"
      ]
    },
    {
      "cell_type": "code",
      "metadata": {
        "colab": {
          "base_uri": "https://localhost:8080/"
        },
        "id": "DPynU8g6i3sr",
        "outputId": "4bdc3d3c-dca1-466c-ae59-e653cb163041"
      },
      "source": [
        "residuals0=y - probability0\n",
        "loss0=-(y*np.log(probability0)+(1-y)*np.log(1-probability0))\n",
        "print(f'loss is {loss0.sum()}')\n",
        "loss0=-y * log_of_odds0 + np.log(1+np.exp(log_of_odds0))\n",
        "print(f'loss is {loss0.sum()}')\n",
        "\n",
        "tree0 = DecisionTreeRegressor(max_depth=1)\n",
        "tree0.fit(X, residuals0)\n",
        "stem = tree0.tree_\n",
        "\n",
        "leaf_index=tree0.apply(X)\n",
        "#for leaf 1\n",
        "n_leaf1=len(leaf_index[leaf_index==1])\n",
        "previous_probability1 = np.array([probability0] * n_leaf1)\n",
        "denominator1 = np.sum(previous_probability1 * (1-previous_probability1))\n",
        "gamma1 = stem.value[1][0][0] * n_leaf1 / denominator1\n",
        "print(f'gamma1 {gamma1}')\n",
        "#for leaf 2\n",
        "n_leaf2=len(leaf_index[leaf_index==2])\n",
        "previous_probability2 = np.array([probability0] * n_leaf2)\n",
        "denominator2 = np.sum(previous_probability2 * (1-previous_probability2))\n",
        "gamma2 = stem.value[2][0][0] * n_leaf2 / denominator2\n",
        "print(f'gamma2 {gamma2}')\n",
        "\n",
        "gamma_value=[gamma1, gamma2]\n",
        "gamma = np.array([gamma_value[index-1] for index in leaf_index])\n",
        "new_log_of_odds = log_of_odds0 + 0.1 * gamma\n",
        "new_loss=-y * new_log_of_odds + np.log(1+np.exp(new_log_of_odds))\n",
        "print(f'new loss is {new_loss.sum()}')"
      ],
      "execution_count": 22,
      "outputs": [
        {
          "output_type": "stream",
          "text": [
            "loss is 375.7200026920845\n",
            "loss is 375.72000269208445\n",
            "gamma1 1.2213642015774746\n",
            "gamma2 -2.4363001705150826\n",
            "new loss is 338.1370338310421\n"
          ],
          "name": "stdout"
        }
      ]
    },
    {
      "cell_type": "code",
      "metadata": {
        "id": "MQckrC2Gi3ss"
      },
      "source": [
        "n_times = 20\n",
        "learning_rate=0.1\n",
        "log_of_odds=np.zeros([n_times+1,n_samples])\n",
        "\n",
        "residuals = np.zeros([n_times+1,n_samples])\n",
        "loss = [0] * (n_times+1)\n",
        "probabilities = np.zeros([n_times+1,n_samples])\n",
        "score = np.zeros([n_times+1])\n",
        "#calculation\n",
        "log_of_odds[0] = [log_of_odds0] * n_samples\n",
        "probabilities[0] = [probability0] * n_samples\n",
        "score[0]=np.sum((probabilities[0]>0.5)*1.0==y) / n_samples\n",
        "residuals[0] = y - probabilities[0]\n",
        "loss[0] = loss0.sum()\n",
        "trees = []\n",
        "gamma_value = np.zeros([n_times+1,8])\n",
        "gamma = np.zeros([n_times+1,n_samples])"
      ],
      "execution_count": 23,
      "outputs": []
    },
    {
      "cell_type": "code",
      "metadata": {
        "id": "APJZP1LJi3ss"
      },
      "source": [
        "for i in range(n_times):\n",
        "    dt = DecisionTreeRegressor(max_depth=2)\n",
        "    dt=dt.fit(X, residuals[i])\n",
        "    tree = dt.tree_\n",
        "    trees.append(tree)\n",
        "    leaf_indeces=dt.apply(X)\n",
        "    unique_leaves=np.unique(leaf_indeces)\n",
        "    n_leaf=len(unique_leaves)\n",
        "    #for leaf 1\n",
        "    for ileaf in range(n_leaf):\n",
        "        leaf_index=unique_leaves[ileaf]\n",
        "        n_leaf=len(leaf_indeces[leaf_indeces==leaf_index])\n",
        "        previous_probability = probabilities[i][leaf_indeces==leaf_index]\n",
        "        denominator = np.sum(previous_probability * (1-previous_probability))\n",
        "        igamma = tree.value[ileaf+1][0][0] * n_leaf / denominator\n",
        "        gamma_value[i][ileaf]=igamma\n",
        "\n",
        "    gamma[i] = [gamma_value[i][np.where(unique_leaves==index)] for index in leaf_indeces]\n",
        "    #next \n",
        "    log_of_odds[i+1] = log_of_odds[i] + learning_rate * gamma[i]\n",
        "\n",
        "    probabilities[i+1] = np.array([np.exp(odds)/(np.exp(odds)+1) for odds in log_of_odds[i+1]])\n",
        "    score[i+1]=np.sum((probabilities[i+1]>0.5)*1.0==y) / n_samples\n",
        "    residuals[i+1] = y - probabilities[i+1]\n",
        "    loss[i+1]=np.sum(-y * log_of_odds[i+1] + np.log(1+np.exp(log_of_odds[i+1])))"
      ],
      "execution_count": null,
      "outputs": []
    },
    {
      "cell_type": "code",
      "metadata": {
        "colab": {
          "base_uri": "https://localhost:8080/",
          "height": 265
        },
        "id": "d5PtIS9wi3ss",
        "outputId": "67a97e57-0a56-4d95-b995-789c75a6d757"
      },
      "source": [
        "plt.plot(loss)\n",
        "plt.show()"
      ],
      "execution_count": 24,
      "outputs": [
        {
          "output_type": "display_data",
          "data": {
            "image/png": "[encoded data removed]",
            "text/plain": [
              "<Figure size 432x288 with 1 Axes>"
            ]
          },
          "metadata": {
            "tags": [],
            "needs_background": "light"
          }
        }
      ]
    },
    {
      "cell_type": "code",
      "metadata": {
        "colab": {
          "base_uri": "https://localhost:8080/",
          "height": 265
        },
        "id": "kFqs-Aabi3ss",
        "outputId": "eb93999b-faf5-44be-ce7f-97578de59469"
      },
      "source": [
        "plt.plot(score)\n",
        "plt.show()"
      ],
      "execution_count": 25,
      "outputs": [
        {
          "output_type": "display_data",
          "data": {
            "image/png": "[encoded data removed]",
            "text/plain": [
              "<Figure size 432x288 with 1 Axes>"
            ]
          },
          "metadata": {
            "tags": [],
            "needs_background": "light"
          }
        }
      ]
    },
    {
      "cell_type": "code",
      "metadata": {
        "id": "6gDCriRli3ss"
      },
      "source": [
        ""
      ],
      "execution_count": null,
      "outputs": []
    },
    {
      "cell_type": "code",
      "metadata": {
        "id": "10PM6An6i3st"
      },
      "source": [
        ""
      ],
      "execution_count": null,
      "outputs": []
    }
  ]
}